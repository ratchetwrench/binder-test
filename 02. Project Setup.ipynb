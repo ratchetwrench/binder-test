{
 "cells": [
  {
   "cell_type": "markdown",
   "metadata": {},
   "source": [
    "# Project Setup\n",
    "This section presents a project template that you can use to work through machine learning problems in Python end-to-end."
   ]
  },
  {
   "cell_type": "code",
   "execution_count": 1,
   "metadata": {
    "collapsed": true
   },
   "outputs": [],
   "source": [
    "# Python Project Template\n",
    "\n",
    "# 1. Prepare Problem\n",
    "# a) Load libraries\n",
    "# b) Load dataset\n",
    "\n",
    "# 2. Summarize Data\n",
    "# a) Descriptive statistics\n",
    "# b) Data visualizations\n",
    "\n",
    "# 3. Prepare Data\n",
    "# a) Data Cleaning\n",
    "# b) Feature Selection\n",
    "# c) Data Transforms\n",
    "\n",
    "# 4. Evaluate Algorithms\n",
    "# a) Split-out validation dataset\n",
    "# b) Test options and evaluation metric\n",
    "# c) Spot Check Algorithms\n",
    "# d) Compare Algorithms\n",
    "\n",
    "# 5. Improve Accuracy\n",
    "# a) Algorithm Tuning\n",
    "# b) Ensembles\n",
    "\n",
    "# 6. Finalize Model\n",
    "# a) Predictions on validation dataset\n",
    "# b) Create standalone model on entire training dataset\n",
    "# c) Save model for later use"
   ]
  },
  {
   "cell_type": "markdown",
   "metadata": {},
   "source": [
    "## How To Use The Project Template\n",
    "1. Create a new project with the cookiecutter template here (../). \n",
    "2. Copy the project template.\n",
    "3. Paste it into your empty project file.\n",
    "4. Start to fill it in, using recipes from this book and others.\n",
    "\n",
    "## Machine Learning Project Template Steps\n",
    "This section gives you additional details on each of the steps of the template.\n",
    "\n",
    "### Prepare Problem\n",
    "This step is about loading everything you need to start working on your problem. This includes:\n",
    "- Python modules, classes and functions that you intend to use. \n",
    "- Loading your dataset from CSV.\n",
    "\n",
    "This is also the home of any global configuration you might need to do. It is also the place where you might need to make a reduced sample of your dataset if it is too large to work with. Ideally, your dataset should be small enough to build a model or create a visualization within a minute, ideally 30 seconds. You can always scale up well performing models later.\n",
    "\n",
    "### Summarize Data\n",
    "This step is about better understanding the data that you have available. This includes understanding your data using:\n",
    "- Descriptive statistics such as summaries.\n",
    "- Data visualizations such as plots with Matplotlib, ideally using convenience functions from Pandas.\n",
    "\n",
    "Take your time and use the results to prompt a lot of questions, assumptions and hypotheses that you can investigate later with specialized models.\n",
    "\n",
    "### Prepare Data\n",
    "This step is about preparing the data in such a way that it best exposes the structure of the problem and the relationships between your input attributes with the output variable. This includes tasks such as:\n",
    "- Cleaning data by removing duplicates, marking missing values and even imputing missing values.\n",
    "- Feature selection where redundant features may be removed and new features developed.\n",
    "- Data transforms where attributes are scaled or redistributed in order to best expose the structure of the problem later to learning algorithms.\n",
    "\n",
    "Start simple. Revisit this step often and cycle with the next step until you converge on a subset of algorithms and a presentation of the data that results in accurate or accurate-enough models to proceed.\n",
    "\n",
    "### Evaluate Algorithms\n",
    "This step is about finding a subset of machine learning algorithms that are good at exploiting the structure of your data (e.g. have better than average skill). This involves steps such as:\n",
    "- Separating out a validation dataset to use for later confirmation of the skill of your developed model.\n",
    "- Defining test options using scikit-learn such as cross validation and the evaluation metric to use.\n",
    "- Spot-checking a suite of linear and nonlinear machine learning algorithms. Comparing the estimated accuracy of algorithms.\n",
    "\n",
    "On a given problem you will likely spend most of your time on this and the previous step until you converge on a set of 3-to-5 well performing machine learning algorithms.\n",
    "\n",
    "### Improve Accuracy\n",
    "Once you have a shortlist of machine learning algorithms, you need to get the most out of them. There are two different ways to improve the accuracy of your models:\n",
    "- Search for a combination of parameters for each algorithm using scikit-learn that yields the best results.\n",
    "- Combine the prediction of multiple models into an ensemble prediction using ensemble techniques.\n",
    "\n",
    "The line between this and the previous step can blur when a project becomes concrete. There may be a little algorithm tuning in the previous step. And in the case of ensembles, you may bring more than a shortlist of algorithms forward to combine their predictions.\n",
    "\n",
    "### Finalize Model\n",
    "Once you have found a model that you believe can make accurate predictions on unseen data, you are ready to finalize it. Finalizing a model may involve sub-tasks such as:\n",
    "- Using an optimal model tuned by scikit-learn to make predictions on unseen data. \n",
    "- Creating a standalone model using the parameters tuned by scikit-learn.\n",
    "- Saving an optimal model to file for later use.\n",
    "\n",
    "Once you make it this far you are ready to present results to stakeholders and/or deploy your model to start making predictions on unseen data."
   ]
  },
  {
   "cell_type": "markdown",
   "metadata": {},
   "source": [
    "## Tips For Using The Template Well\n",
    "This section lists tips that you can use to make the most of the machine learning project template in Python.\n",
    "- **Fast First Pass**. Make a first-pass through the project steps as fast as possible. This will give you confidence that you have all the parts that you need and a baseline from which to improve.\n",
    "- **Cycles**. The process in not linear but cyclic. You will loop between steps, and probably spend most of your time in tight loops between steps 3-4 or 3-4-5 until you achieve a level of accuracy that is su cient or you run out of time.\n",
    "- **Attempt Every Step**. It is easy to skip steps, especially if you are not confident or familiar with the tasks of that step. Try and do something at each step in the process, even if it does not improve accuracy. You can always build upon it later. Don’t skip steps, just reduce their contribution.\n",
    "- **Ratchet Accuracy**. The goal of the project is model accuracy. Every step contributes towards this goal. Treat changes that you make as experiments that increase accuracy as the golden path in the process and reorganize other steps around them. Accuracy is a ratchet that can only move in one direction (better, not worse).\n",
    "- **Adapt As Needed**. Modify the steps as you need on a project, especially as you become more experienced with the template. Blur the edges of tasks, such as steps 4-5 to best serve model accuracy.\n",
    "\n",
    "## Summary\n",
    "In this lesson you discovered a machine learning project template in Python. It laid out the steps of a predictive modeling machine learning project with the goal of maximizing model accuracy. You can copy-and-paste the template and use it to jump-start your current or next machine learning project in Python.\n",
    "\n",
    "### Next Step\n",
    "Now that you know how to structure a predictive modeling machine learning project in Python, you need to put this knowledge to use. In the next lesson you will work through a simple case study problem end-to-end. This is a famous case study and the hello world of machine learning projects."
   ]
  },
  {
   "cell_type": "code",
   "execution_count": null,
   "metadata": {
    "collapsed": true
   },
   "outputs": [],
   "source": []
  }
 ],
 "metadata": {
  "kernelspec": {
   "display_name": "Python 3",
   "language": "python",
   "name": "python3"
  },
  "language_info": {
   "codemirror_mode": {
    "name": "ipython",
    "version": 3
   },
   "file_extension": ".py",
   "mimetype": "text/x-python",
   "name": "python",
   "nbconvert_exporter": "python",
   "pygments_lexer": "ipython3",
   "version": "3.6.2"
  }
 },
 "nbformat": 4,
 "nbformat_minor": 2
}
