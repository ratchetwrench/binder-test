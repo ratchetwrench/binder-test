{
 "cells": [
  {
   "cell_type": "markdown",
   "metadata": {},
   "source": [
    "# Machine Learning with Python"
   ]
  },
  {
   "cell_type": "markdown",
   "metadata": {},
   "source": [
    "## Contents\n",
    "    01. Environment Setup\n",
    "        - makefile\n",
    "        - macOS\n",
    "        - Windows\n",
    "    02. Project Setup\n",
    "        - Template\n",
    "        - GCP\n",
    "        - Flask\n",
    "    03. Exploratory Data Analysis\n",
    "        - Data Descriptions\n",
    "        - Plotting\n",
    "    04. Pipelines\n",
    "    05. Preprocessing and Transformations\n",
    "        - Scaling\n",
    "        - Standardizing\n",
    "        - Normalize\n",
    "        - Binarize\n",
    "        - One Hot Encoding\n",
    "        - Imputing Missing Data\n",
    "    06. Feature Selection and Engineering\n",
    "        - Univariate Selection\n",
    "        - Recursive Feature Elimination\n",
    "        - Principle Component Analysis\n",
    "        - Feature Importance\n",
    "    07. Modeling Performance and Metrics\n",
    "        - Classification\n",
    "        - Regresison\n",
    "    08. Model Evaluation\n",
    "    09. Model Comparison\n",
    "    10. Ensemble Methods\n",
    "    11. Parameter Optimization\n",
    "    12. Model Persistance\n",
    "    ..."
   ]
  },
  {
   "cell_type": "code",
   "execution_count": null,
   "metadata": {
    "collapsed": true
   },
   "outputs": [],
   "source": []
  }
 ],
 "metadata": {
  "kernelspec": {
   "display_name": "Python 3",
   "language": "python",
   "name": "python3"
  },
  "language_info": {
   "codemirror_mode": {
    "name": "ipython",
    "version": 3
   },
   "file_extension": ".py",
   "mimetype": "text/x-python",
   "name": "python",
   "nbconvert_exporter": "python",
   "pygments_lexer": "ipython3",
   "version": "3.6.2"
  }
 },
 "nbformat": 4,
 "nbformat_minor": 2
}
